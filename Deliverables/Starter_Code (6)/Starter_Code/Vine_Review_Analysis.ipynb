{
  "nbformat": 4,
  "nbformat_minor": 0,
  "metadata": {
    "colab": {
      "provenance": []
    },
    "kernelspec": {
      "name": "python3",
      "display_name": "Python 3"
    },
    "language_info": {
      "name": "python"
    }
  },
  "cells": [
    {
      "cell_type": "code",
      "execution_count": 2,
      "metadata": {
        "colab": {
          "base_uri": "https://localhost:8080/"
        },
        "id": "D0SXZ0NRP3Xb",
        "outputId": "779492b2-1f75-4e6c-dca3-f9a4ccc89d44"
      },
      "outputs": [
        {
          "output_type": "stream",
          "name": "stdout",
          "text": [
            "\r0% [Working]\r            \rGet:1 https://cloud.r-project.org/bin/linux/ubuntu bionic-cran40/ InRelease [3,626 B]\n",
            "Ign:2 https://developer.download.nvidia.com/compute/machine-learning/repos/ubuntu1804/x86_64  InRelease\n",
            "Hit:3 https://developer.download.nvidia.com/compute/cuda/repos/ubuntu1804/x86_64  InRelease\n",
            "Hit:4 https://developer.download.nvidia.com/compute/machine-learning/repos/ubuntu1804/x86_64  Release\n",
            "Get:5 http://security.ubuntu.com/ubuntu bionic-security InRelease [88.7 kB]\n",
            "Hit:6 http://ppa.launchpad.net/c2d4u.team/c2d4u4.0+/ubuntu bionic InRelease\n",
            "Hit:7 http://archive.ubuntu.com/ubuntu bionic InRelease\n",
            "Get:8 http://archive.ubuntu.com/ubuntu bionic-updates InRelease [88.7 kB]\n",
            "Hit:9 http://ppa.launchpad.net/cran/libgit2/ubuntu bionic InRelease\n",
            "Hit:10 http://ppa.launchpad.net/deadsnakes/ppa/ubuntu bionic InRelease\n",
            "Hit:11 http://ppa.launchpad.net/graphics-drivers/ppa/ubuntu bionic InRelease\n",
            "Get:12 http://archive.ubuntu.com/ubuntu bionic-backports InRelease [83.3 kB]\n",
            "Get:14 http://security.ubuntu.com/ubuntu bionic-security/restricted amd64 Packages [1,371 kB]\n",
            "Get:15 http://archive.ubuntu.com/ubuntu bionic-updates/main amd64 Packages [3,568 kB]\n",
            "Get:16 http://security.ubuntu.com/ubuntu bionic-security/main amd64 Packages [3,145 kB]\n",
            "Get:17 http://security.ubuntu.com/ubuntu bionic-security/universe amd64 Packages [1,573 kB]\n",
            "Get:18 http://archive.ubuntu.com/ubuntu bionic-updates/universe amd64 Packages [2,348 kB]\n",
            "Get:19 http://archive.ubuntu.com/ubuntu bionic-updates/restricted amd64 Packages [1,412 kB]\n",
            "Fetched 13.7 MB in 49s (278 kB/s)\n",
            "Reading package lists... Done\n"
          ]
        }
      ],
      "source": [
        "import os\n",
        "# Find the latest version of spark 3.2  from http://www.apache.org/dist/spark/ and enter as the spark version\n",
        "# For example:\n",
        "# spark_version = 'spark-3.2.2'\n",
        "spark_version = 'spark-3.2.3'\n",
        "os.environ['SPARK_VERSION']=spark_version\n",
        "# Install Spark and Java\n",
        "!apt-get update\n",
        "!apt-get install openjdk-8-jdk-headless -qq > /dev/null\n",
        "!wget -q http://www.apache.org/dist/spark/$SPARK_VERSION/$SPARK_VERSION-bin-hadoop2.7.tgz\n",
        "!tar xf $SPARK_VERSION-bin-hadoop2.7.tgz\n",
        "!pip install -q findspark\n",
        "# Set Environment Variables\n",
        "os.environ[\"JAVA_HOME\"] = \"/usr/lib/jvm/java-8-openjdk-amd64\"\n",
        "os.environ[\"SPARK_HOME\"] = f\"/content/{spark_version}-bin-hadoop2.7\"\n",
        "# Start a SparkSession\n",
        "import findspark\n",
        "findspark.init()"
      ]
    },
    {
      "cell_type": "code",
      "source": [
        "# Download the Postgres driver that will allow Spark to interact with Postgres.\n",
        "!wget https://jdbc.postgresql.org/download/postgresql-42.2.16.jar"
      ],
      "metadata": {
        "colab": {
          "base_uri": "https://localhost:8080/"
        },
        "id": "Bevxev3wQnLM",
        "outputId": "2dc4621f-a0bc-41f8-cfb3-b9010af86cfa"
      },
      "execution_count": 3,
      "outputs": [
        {
          "output_type": "stream",
          "name": "stdout",
          "text": [
            "--2023-01-13 13:15:20--  https://jdbc.postgresql.org/download/postgresql-42.2.16.jar\n",
            "Resolving jdbc.postgresql.org (jdbc.postgresql.org)... 72.32.157.228, 2001:4800:3e1:1::228\n",
            "Connecting to jdbc.postgresql.org (jdbc.postgresql.org)|72.32.157.228|:443... connected.\n",
            "HTTP request sent, awaiting response... 200 OK\n",
            "Length: 1002883 (979K) [application/java-archive]\n",
            "Saving to: ‘postgresql-42.2.16.jar’\n",
            "\n",
            "postgresql-42.2.16. 100%[===================>] 979.38K  --.-KB/s    in 0.09s   \n",
            "\n",
            "2023-01-13 13:15:20 (10.1 MB/s) - ‘postgresql-42.2.16.jar’ saved [1002883/1002883]\n",
            "\n"
          ]
        }
      ]
    },
    {
      "cell_type": "code",
      "source": [
        "from pyspark.sql import SparkSession\n",
        "spark = SparkSession.builder.appName(\"CloudETL\").config(\"spark.driver.extraClassPath\",\"/content/postgresql-42.2.9.jar\").getOrCreate()"
      ],
      "metadata": {
        "id": "8n6mtohWQqlF"
      },
      "execution_count": 4,
      "outputs": []
    },
    {
      "cell_type": "code",
      "source": [
        "# Extract Amazon dataset to dataframe \n",
        "from pyspark import SparkFiles\n",
        "url = \"https://s3.amazonaws.com/amazon-reviews-pds/tsv/amazon_reviews_us_Wireless_v1_00.tsv.gz\"\n",
        "spark.sparkContext.addFile(url)\n",
        "df = spark.read.option(\"encoding\", \"UTF-8\").csv(SparkFiles.get(\"\"), sep=\"\\t\", header=True, inferSchema=True)\n",
        "df.show()"
      ],
      "metadata": {
        "colab": {
          "base_uri": "https://localhost:8080/"
        },
        "id": "JWuLVYa0QrId",
        "outputId": "8e685fbe-40f7-4302-a855-210d16ddcb3e"
      },
      "execution_count": 5,
      "outputs": [
        {
          "output_type": "stream",
          "name": "stdout",
          "text": [
            "+-----------+-----------+--------------+----------+--------------+--------------------+----------------+-----------+-------------+-----------+----+-----------------+--------------------+--------------------+-----------+\n",
            "|marketplace|customer_id|     review_id|product_id|product_parent|       product_title|product_category|star_rating|helpful_votes|total_votes|vine|verified_purchase|     review_headline|         review_body|review_date|\n",
            "+-----------+-----------+--------------+----------+--------------+--------------------+----------------+-----------+-------------+-----------+----+-----------------+--------------------+--------------------+-----------+\n",
            "|         US|   16414143|R3W4P9UBGNGH1U|B00YL0EKWE|     852431543|LG G4 Case Hard T...|        Wireless|          2|            1|          3|   N|                Y|Looks good, funct...|2 issues  -  Once...| 2015-08-31|\n",
            "|         US|   50800750|R15V54KBMTQWAY|B00XK95RPQ|     516894650|Selfie Stick Fibl...|        Wireless|          4|            0|          0|   N|                N| A fun little gadget|I’m embarrassed t...| 2015-08-31|\n",
            "|         US|   15184378| RY8I449HNXSVF|B00SXRXUKO|     984297154|Tribe AB40 Water ...|        Wireless|          5|            0|          0|   N|                Y|          Five Stars|  Fits iPhone 6 well| 2015-08-31|\n",
            "|         US|   10203548|R18TLJYCKJFLSR|B009V5X1CE|     279912704|RAVPower® Element...|        Wireless|          5|            0|          0|   N|                Y|       Great charger|Great charger.  I...| 2015-08-31|\n",
            "|         US|     488280|R1NK26SWS53B8Q|B00D93OVF0|     662791300|Fosmon Micro USB ...|        Wireless|          5|            0|          0|   N|                Y|          Five Stars|Great for the pri...| 2015-08-31|\n",
            "|         US|   13334021|R11LOHEDYJALTN|B00XVGJMDQ|     421688488|iPhone 6 Case, Vo...|        Wireless|          5|            0|          0|   N|                Y|          Five Stars|Great Case, bette...| 2015-08-31|\n",
            "|         US|   27520697|R3ALQVQB2P9LA7|B00KQW1X1C|     554285554|Nokia Lumia 630 R...|        Wireless|          4|            0|          0|   N|                Y|          Four Stars|Easy to set up an...| 2015-08-31|\n",
            "|         US|   48086021|R3MWLXLNO21PDQ|B00IP1MQNK|     488006702|Lumsing 10400mah ...|        Wireless|          5|            0|          0|   N|                Y|          Five Stars|         Works great| 2015-08-31|\n",
            "|         US|   12738196|R2L15IS24CX0LI|B00HVORET8|     389677711|iPhone 5S Battery...|        Wireless|          5|            0|          0|   N|                Y|      So far so good|So far so good. I...| 2015-08-31|\n",
            "|         US|   15867807|R1DJ8976WPWVZU|B00HX3G6J6|     299654876|HTC One M8 Screen...|        Wireless|          3|            0|          0|   N|                Y|seems durable but...|seems durable but...| 2015-08-31|\n",
            "|         US|    1972249|R3MRWNNR8CBTB7|B00U4NATNQ|     577878727|S6 Case - Bear Mo...|        Wireless|          5|            0|          0|   N|                Y|Super thin, light...|Super thin, light...| 2015-08-31|\n",
            "|         US|   10956619|R1DS6DKTUXAQK3|B00SZEFDH8|     654620704|BLU Studio X, Unl...|        Wireless|          5|            0|          0|   N|                Y|          Five Stars|As good as the Sa...| 2015-08-31|\n",
            "|         US|   14805911| RWJM5E0TWUJD2|B00JRJUL9U|     391166958|EZOPower 5-Port U...|        Wireless|          5|            0|          0|   N|                Y|            EZOPower|I received this o...| 2015-08-31|\n",
            "|         US|   15611116|R1XTJKDYNCRGAC|B00KQ4T0HE|     481551630|iPhone 6S Case &i...|        Wireless|          1|            0|          0|   N|                Y|Very cheap case. ...|Very cheap case. ...| 2015-08-31|\n",
            "|         US|   39298603|R2UZL3DPWEU1XW|B00M0YWKPM|     685107474| iPhone 6s Plus Case|        Wireless|          5|            0|          0|   N|                Y|          Five Stars|       son loves it.| 2015-08-31|\n",
            "|         US|   17552454|R2EZXET9KBFFU3|B00KDZEE68|     148320945|zBoost ZB575-A TR...|        Wireless|          1|            0|          0|   N|                Y|            One Star|you have to turn ...| 2015-08-31|\n",
            "|         US|   12218556|R26VY1L1FD3LPU|B00BJN45GM|      47788188|OtterBox Defender...|        Wireless|          5|            0|          0|   N|                Y|          Five Stars|  Awesome, thank you| 2015-08-31|\n",
            "|         US|   21872923|R2SSA4NSFCV18T|B00SA86SXW|     748759272|Aduro PowerUP 30W...|        Wireless|          5|            0|          0|   N|                N|          Five Stars|         nice, smart| 2015-08-31|\n",
            "|         US|   16264332|R1G6333JHJNEUQ|B00Q3I68TU|     974085141|LilGadgets Connec...|        Wireless|          5|            0|          0|   N|                Y|Great headphones ...|We love these hea...| 2015-08-31|\n",
            "|         US|    6042304|R2DRG0UZXJQ0PE|B00TN4J1TA|     716174627|Anker Aluminum Mu...|        Wireless|          5|            0|          0|   N|                Y|          Five Stars|This is well wort...| 2015-08-31|\n",
            "+-----------+-----------+--------------+----------+--------------+--------------------+----------------+-----------+-------------+-----------+----+-----------------+--------------------+--------------------+-----------+\n",
            "only showing top 20 rows\n",
            "\n"
          ]
        }
      ]
    },
    {
      "cell_type": "code",
      "source": [
        "# Create the vine_table DataFrame\n",
        "vine_df = df.select([\"review_id\", \"star_rating\", \"helpful_votes\", \"total_votes\", \"vine\", \"verified_purchase\"])\n",
        "vine_df.show(20)"
      ],
      "metadata": {
        "colab": {
          "base_uri": "https://localhost:8080/"
        },
        "id": "H8tuo1ErQrXN",
        "outputId": "9a8abcd1-e1f2-4635-9eff-84eaf6b90659"
      },
      "execution_count": 6,
      "outputs": [
        {
          "output_type": "stream",
          "name": "stdout",
          "text": [
            "+--------------+-----------+-------------+-----------+----+-----------------+\n",
            "|     review_id|star_rating|helpful_votes|total_votes|vine|verified_purchase|\n",
            "+--------------+-----------+-------------+-----------+----+-----------------+\n",
            "|R3W4P9UBGNGH1U|          2|            1|          3|   N|                Y|\n",
            "|R15V54KBMTQWAY|          4|            0|          0|   N|                N|\n",
            "| RY8I449HNXSVF|          5|            0|          0|   N|                Y|\n",
            "|R18TLJYCKJFLSR|          5|            0|          0|   N|                Y|\n",
            "|R1NK26SWS53B8Q|          5|            0|          0|   N|                Y|\n",
            "|R11LOHEDYJALTN|          5|            0|          0|   N|                Y|\n",
            "|R3ALQVQB2P9LA7|          4|            0|          0|   N|                Y|\n",
            "|R3MWLXLNO21PDQ|          5|            0|          0|   N|                Y|\n",
            "|R2L15IS24CX0LI|          5|            0|          0|   N|                Y|\n",
            "|R1DJ8976WPWVZU|          3|            0|          0|   N|                Y|\n",
            "|R3MRWNNR8CBTB7|          5|            0|          0|   N|                Y|\n",
            "|R1DS6DKTUXAQK3|          5|            0|          0|   N|                Y|\n",
            "| RWJM5E0TWUJD2|          5|            0|          0|   N|                Y|\n",
            "|R1XTJKDYNCRGAC|          1|            0|          0|   N|                Y|\n",
            "|R2UZL3DPWEU1XW|          5|            0|          0|   N|                Y|\n",
            "|R2EZXET9KBFFU3|          1|            0|          0|   N|                Y|\n",
            "|R26VY1L1FD3LPU|          5|            0|          0|   N|                Y|\n",
            "|R2SSA4NSFCV18T|          5|            0|          0|   N|                N|\n",
            "|R1G6333JHJNEUQ|          5|            0|          0|   N|                Y|\n",
            "|R2DRG0UZXJQ0PE|          5|            0|          0|   N|                Y|\n",
            "+--------------+-----------+-------------+-----------+----+-----------------+\n",
            "only showing top 20 rows\n",
            "\n"
          ]
        }
      ]
    },
    {
      "cell_type": "code",
      "source": [
        "# Filter the data for reviews that have at least twenty votes\n",
        "popular_df = vine_df.filter(vine_df[\"total_votes\"] >= 20).orderBy(\"review_id\")\n",
        "popular_df.show(20)"
      ],
      "metadata": {
        "colab": {
          "base_uri": "https://localhost:8080/"
        },
        "id": "WbaA-P8hQros",
        "outputId": "6f8a2616-3c29-4e90-f61d-0910cad1e73e"
      },
      "execution_count": 8,
      "outputs": [
        {
          "output_type": "stream",
          "name": "stdout",
          "text": [
            "+--------------+-----------+-------------+-----------+----+-----------------+\n",
            "|     review_id|star_rating|helpful_votes|total_votes|vine|verified_purchase|\n",
            "+--------------+-----------+-------------+-----------+----+-----------------+\n",
            "|R10007K8VEMB9R|          2|            7|         24|   N|                N|\n",
            "|R1000BM31RF4HI|          2|           26|         27|   N|                Y|\n",
            "|R1003L7NMYTNMM|          2|           14|         24|   N|                N|\n",
            "|R1004ZWTYXVAB2|          5|           51|         51|   N|                Y|\n",
            "|R1007NJM6VQZQ1|          5|           62|         67|   N|                Y|\n",
            "|R100EPX8JZ6D1I|          1|           53|         57|   N|                N|\n",
            "|R100F6NRV8DEYW|          5|           34|         37|   N|                Y|\n",
            "|R100G36GGWRVFT|          4|          172|        203|   Y|                N|\n",
            "|R100JUMKB8134K|          3|            0|         29|   N|                N|\n",
            "|R100S5TT6TWM1L|          5|          147|        179|   N|                N|\n",
            "|R100TAAY81EYCN|          1|           57|         68|   N|                Y|\n",
            "|R100WNDC0PNHW6|          1|           14|         20|   N|                N|\n",
            "|R1015NB5NVNJ26|          5|           23|         24|   N|                Y|\n",
            "|R101929AR98HW0|          2|           54|         66|   N|                Y|\n",
            "|R101CHAJ4WI66M|          1|           23|         24|   N|                N|\n",
            "|R101GRTCAII7J0|          4|           27|         33|   N|                N|\n",
            "|R101I2CJ8GIJWN|          4|           49|         56|   N|                Y|\n",
            "|R101ITBCKBH72S|          4|           32|         34|   N|                Y|\n",
            "|R101J6FDRM6NCA|          1|          161|        174|   N|                Y|\n",
            "|R101J8IP9GVL7U|          5|           20|         20|   N|                Y|\n",
            "+--------------+-----------+-------------+-----------+----+-----------------+\n",
            "only showing top 20 rows\n",
            "\n"
          ]
        }
      ]
    },
    {
      "cell_type": "code",
      "source": [
        "# Filter the results for reviews where at least half of the votes mark them as helpful\n",
        "helpful_df = popular_df.filter((popular_df[\"helpful_votes\"] / popular_df[\"total_votes\"]) >= 0.5).orderBy(\"review_id\")\n",
        "helpful_df.show(20)"
      ],
      "metadata": {
        "colab": {
          "base_uri": "https://localhost:8080/"
        },
        "id": "-tdI1Dj4Qr4z",
        "outputId": "9e938a78-56bd-40b4-8df8-57bfc65df67a"
      },
      "execution_count": 9,
      "outputs": [
        {
          "output_type": "stream",
          "name": "stdout",
          "text": [
            "+--------------+-----------+-------------+-----------+----+-----------------+\n",
            "|     review_id|star_rating|helpful_votes|total_votes|vine|verified_purchase|\n",
            "+--------------+-----------+-------------+-----------+----+-----------------+\n",
            "|R1000BM31RF4HI|          2|           26|         27|   N|                Y|\n",
            "|R1003L7NMYTNMM|          2|           14|         24|   N|                N|\n",
            "|R1004ZWTYXVAB2|          5|           51|         51|   N|                Y|\n",
            "|R1007NJM6VQZQ1|          5|           62|         67|   N|                Y|\n",
            "|R100EPX8JZ6D1I|          1|           53|         57|   N|                N|\n",
            "|R100F6NRV8DEYW|          5|           34|         37|   N|                Y|\n",
            "|R100G36GGWRVFT|          4|          172|        203|   Y|                N|\n",
            "|R100S5TT6TWM1L|          5|          147|        179|   N|                N|\n",
            "|R100TAAY81EYCN|          1|           57|         68|   N|                Y|\n",
            "|R100WNDC0PNHW6|          1|           14|         20|   N|                N|\n",
            "|R1015NB5NVNJ26|          5|           23|         24|   N|                Y|\n",
            "|R101929AR98HW0|          2|           54|         66|   N|                Y|\n",
            "|R101CHAJ4WI66M|          1|           23|         24|   N|                N|\n",
            "|R101GRTCAII7J0|          4|           27|         33|   N|                N|\n",
            "|R101I2CJ8GIJWN|          4|           49|         56|   N|                Y|\n",
            "|R101ITBCKBH72S|          4|           32|         34|   N|                Y|\n",
            "|R101J6FDRM6NCA|          1|          161|        174|   N|                Y|\n",
            "|R101J8IP9GVL7U|          5|           20|         20|   N|                Y|\n",
            "|R101JBQ54OWT5E|          5|           22|         23|   N|                Y|\n",
            "|R101L8JEV0KB6M|          2|           16|         20|   N|                Y|\n",
            "+--------------+-----------+-------------+-----------+----+-----------------+\n",
            "only showing top 20 rows\n",
            "\n"
          ]
        }
      ]
    },
    {
      "cell_type": "code",
      "source": [
        "paid_df = helpful_df.filter(helpful_df[\"vine\"] == \"Y\").orderBy(\"review_id\")\n",
        "paid_df.show(20)"
      ],
      "metadata": {
        "colab": {
          "base_uri": "https://localhost:8080/"
        },
        "id": "79xvRNtLQsHX",
        "outputId": "6109ad57-e3cd-47be-8ef9-93e604546f4a"
      },
      "execution_count": 10,
      "outputs": [
        {
          "output_type": "stream",
          "name": "stdout",
          "text": [
            "+--------------+-----------+-------------+-----------+----+-----------------+\n",
            "|     review_id|star_rating|helpful_votes|total_votes|vine|verified_purchase|\n",
            "+--------------+-----------+-------------+-----------+----+-----------------+\n",
            "|R100G36GGWRVFT|          4|          172|        203|   Y|                N|\n",
            "|R1021QF1UB5UAI|          3|           16|         21|   Y|                N|\n",
            "| R106NP7AO6JJF|          3|           90|        110|   Y|                N|\n",
            "|R10A2Q2RZDEX4P|          4|           61|         69|   Y|                N|\n",
            "|R11ZZK2IY6E3MI|          5|           29|         32|   Y|                N|\n",
            "|R125IZL6QF52HC|          3|           24|         27|   Y|                N|\n",
            "|R128V68NQDD0HC|          4|          187|        193|   Y|                N|\n",
            "|R12OU5CDARPZSN|          3|          326|        341|   Y|                N|\n",
            "|R132B9BM6NF5HV|          2|          106|        110|   Y|                N|\n",
            "|R13NLMRBSI0F8Y|          4|           25|         28|   Y|                N|\n",
            "|R147OU7LG7V03V|          3|          273|        284|   Y|                N|\n",
            "|R152CWU1TNKJ3A|          4|           22|         22|   Y|                N|\n",
            "|R15CNHFEBV35GK|          5|          149|        166|   Y|                Y|\n",
            "|R15FTK04EKWVCD|          4|           26|         28|   Y|                N|\n",
            "|R15HOLGHOXF4KN|          5|          808|        838|   Y|                N|\n",
            "|R15S82IX5FKSZS|          1|           40|         58|   Y|                N|\n",
            "|R162FFFH02N947|          3|          223|        233|   Y|                N|\n",
            "|R168XZM2PUD8JY|          3|           20|         22|   Y|                N|\n",
            "|R16BD1GQLGULEC|          4|           17|         20|   Y|                N|\n",
            "|R16CL9I333DP3X|          5|           74|         86|   Y|                N|\n",
            "+--------------+-----------+-------------+-----------+----+-----------------+\n",
            "only showing top 20 rows\n",
            "\n"
          ]
        }
      ]
    },
    {
      "cell_type": "code",
      "source": [
        "unpaid_df = helpful_df.filter(helpful_df[\"vine\"] == \"N\").orderBy(\"review_id\")\n",
        "unpaid_df.show(20)"
      ],
      "metadata": {
        "colab": {
          "base_uri": "https://localhost:8080/"
        },
        "id": "0RC80m_PQsW0",
        "outputId": "e477035f-a0ff-485e-9a11-2b9f165289fe"
      },
      "execution_count": 11,
      "outputs": [
        {
          "output_type": "stream",
          "name": "stdout",
          "text": [
            "+--------------+-----------+-------------+-----------+----+-----------------+\n",
            "|     review_id|star_rating|helpful_votes|total_votes|vine|verified_purchase|\n",
            "+--------------+-----------+-------------+-----------+----+-----------------+\n",
            "|R1000BM31RF4HI|          2|           26|         27|   N|                Y|\n",
            "|R1003L7NMYTNMM|          2|           14|         24|   N|                N|\n",
            "|R1004ZWTYXVAB2|          5|           51|         51|   N|                Y|\n",
            "|R1007NJM6VQZQ1|          5|           62|         67|   N|                Y|\n",
            "|R100EPX8JZ6D1I|          1|           53|         57|   N|                N|\n",
            "|R100F6NRV8DEYW|          5|           34|         37|   N|                Y|\n",
            "|R100S5TT6TWM1L|          5|          147|        179|   N|                N|\n",
            "|R100TAAY81EYCN|          1|           57|         68|   N|                Y|\n",
            "|R100WNDC0PNHW6|          1|           14|         20|   N|                N|\n",
            "|R1015NB5NVNJ26|          5|           23|         24|   N|                Y|\n",
            "|R101929AR98HW0|          2|           54|         66|   N|                Y|\n",
            "|R101CHAJ4WI66M|          1|           23|         24|   N|                N|\n",
            "|R101GRTCAII7J0|          4|           27|         33|   N|                N|\n",
            "|R101I2CJ8GIJWN|          4|           49|         56|   N|                Y|\n",
            "|R101ITBCKBH72S|          4|           32|         34|   N|                Y|\n",
            "|R101J6FDRM6NCA|          1|          161|        174|   N|                Y|\n",
            "|R101J8IP9GVL7U|          5|           20|         20|   N|                Y|\n",
            "|R101JBQ54OWT5E|          5|           22|         23|   N|                Y|\n",
            "|R101L8JEV0KB6M|          2|           16|         20|   N|                Y|\n",
            "|R101NZ1M45MQW9|          4|           43|         48|   N|                N|\n",
            "+--------------+-----------+-------------+-----------+----+-----------------+\n",
            "only showing top 20 rows\n",
            "\n"
          ]
        }
      ]
    },
    {
      "cell_type": "code",
      "source": [
        "# Display total number of reviews, the number of 5-star reviews, and the percentage of 5-star reviews for all review (based on votes >= 50%)"
      ],
      "metadata": {
        "id": "8NeFQKZOY5Yz"
      },
      "execution_count": null,
      "outputs": []
    },
    {
      "cell_type": "code",
      "source": [
        "total_count = helpful_df.count()\n",
        "total_count"
      ],
      "metadata": {
        "colab": {
          "base_uri": "https://localhost:8080/"
        },
        "id": "xmva3iB8Y5pZ",
        "outputId": "f2e50c3e-2370-4d63-a500-e1b2b46502ca"
      },
      "execution_count": 14,
      "outputs": [
        {
          "output_type": "execute_result",
          "data": {
            "text/plain": [
              "65581"
            ]
          },
          "metadata": {},
          "execution_count": 14
        }
      ]
    },
    {
      "cell_type": "code",
      "source": [
        "paid_count = paid_df.count()\n",
        "paid_count"
      ],
      "metadata": {
        "colab": {
          "base_uri": "https://localhost:8080/"
        },
        "id": "3u_vTMrFY55V",
        "outputId": "58aba07a-7025-448e-ee30-b1714bcf93fe"
      },
      "execution_count": 15,
      "outputs": [
        {
          "output_type": "execute_result",
          "data": {
            "text/plain": [
              "613"
            ]
          },
          "metadata": {},
          "execution_count": 15
        }
      ]
    },
    {
      "cell_type": "code",
      "source": [
        "unpaid_count = unpaid_df.count()\n",
        "unpaid_count"
      ],
      "metadata": {
        "colab": {
          "base_uri": "https://localhost:8080/"
        },
        "id": "NDpANgAgY6Kz",
        "outputId": "582544ad-b873-4b94-b038-2ffc9429bb1a"
      },
      "execution_count": 16,
      "outputs": [
        {
          "output_type": "execute_result",
          "data": {
            "text/plain": [
              "64968"
            ]
          },
          "metadata": {},
          "execution_count": 16
        }
      ]
    },
    {
      "cell_type": "code",
      "source": [
        "five_star_count = helpful_df.filter(helpful_df[\"star_rating\"] == 5).count()\n",
        "five_star_count"
      ],
      "metadata": {
        "colab": {
          "base_uri": "https://localhost:8080/"
        },
        "id": "8nc1vJxtZ3g1",
        "outputId": "8d1519ed-0f94-442c-8895-9dfcc7fa4a90"
      },
      "execution_count": 17,
      "outputs": [
        {
          "output_type": "execute_result",
          "data": {
            "text/plain": [
              "30765"
            ]
          },
          "metadata": {},
          "execution_count": 17
        }
      ]
    },
    {
      "cell_type": "code",
      "source": [
        "five_star_paid = paid_df.filter(paid_df[\"star_rating\"] == 5).count()\n",
        "five_star_paid"
      ],
      "metadata": {
        "colab": {
          "base_uri": "https://localhost:8080/"
        },
        "id": "CgG4LnMJZ3yt",
        "outputId": "daa8a65b-cd7a-40d1-9377-c73d7c6bc4cb"
      },
      "execution_count": 18,
      "outputs": [
        {
          "output_type": "execute_result",
          "data": {
            "text/plain": [
              "222"
            ]
          },
          "metadata": {},
          "execution_count": 18
        }
      ]
    },
    {
      "cell_type": "code",
      "source": [
        "five_star_unpaid = unpaid_df.filter(unpaid_df[\"star_rating\"] == 5).count()\n",
        "five_star_unpaid"
      ],
      "metadata": {
        "colab": {
          "base_uri": "https://localhost:8080/"
        },
        "id": "M5VDmm6JZ4Pt",
        "outputId": "6032c843-8335-4974-f48b-75ffb4d34e0c"
      },
      "execution_count": 19,
      "outputs": [
        {
          "output_type": "execute_result",
          "data": {
            "text/plain": [
              "30543"
            ]
          },
          "metadata": {},
          "execution_count": 19
        }
      ]
    },
    {
      "cell_type": "code",
      "source": [
        "five_star_percentage = five_star_count / total_count * 100\n",
        "five_star_percentage"
      ],
      "metadata": {
        "colab": {
          "base_uri": "https://localhost:8080/"
        },
        "id": "3_R8pQB_Y6Z3",
        "outputId": "306ec213-47d6-45a6-a3af-0799040d49bc"
      },
      "execution_count": 22,
      "outputs": [
        {
          "output_type": "execute_result",
          "data": {
            "text/plain": [
              "46.911453012305394"
            ]
          },
          "metadata": {},
          "execution_count": 22
        }
      ]
    },
    {
      "cell_type": "code",
      "source": [
        "paid_percentage = five_star_paid / paid_count * 100\n",
        "paid_percentage"
      ],
      "metadata": {
        "colab": {
          "base_uri": "https://localhost:8080/"
        },
        "id": "ZhE_sOvpazxF",
        "outputId": "ff74006b-d0b4-49ee-8e8c-ab0717b0dabb"
      },
      "execution_count": 24,
      "outputs": [
        {
          "output_type": "execute_result",
          "data": {
            "text/plain": [
              "36.215334420880914"
            ]
          },
          "metadata": {},
          "execution_count": 24
        }
      ]
    },
    {
      "cell_type": "code",
      "source": [
        "unpaid_percentage = five_star_unpaid / unpaid_count * 100\n",
        "unpaid_percentage"
      ],
      "metadata": {
        "colab": {
          "base_uri": "https://localhost:8080/"
        },
        "id": "mBJpgiMTa_iG",
        "outputId": "ac77ce8f-ade0-4659-df03-f0d6e9ab5bc3"
      },
      "execution_count": 25,
      "outputs": [
        {
          "output_type": "execute_result",
          "data": {
            "text/plain": [
              "47.01237532323606"
            ]
          },
          "metadata": {},
          "execution_count": 25
        }
      ]
    }
  ]
}